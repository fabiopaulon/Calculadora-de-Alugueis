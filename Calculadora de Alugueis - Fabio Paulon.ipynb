{
 "cells": [
  {
   "cell_type": "code",
   "execution_count": 1,
   "metadata": {},
   "outputs": [],
   "source": [
    "#Imports:\n",
    "\n",
    "import requests\n",
    "from bs4 import BeautifulSoup\n",
    "import pandas as pd\n",
    "from time import sleep\n",
    "import numpy as np\n",
    "import re\n"
   ]
  },
  {
   "cell_type": "code",
   "execution_count": 2,
   "metadata": {},
   "outputs": [],
   "source": [
    "c = requests.get('https://imoveis.mercadolivre.com.br/aluguel/').content"
   ]
  },
  {
   "cell_type": "code",
   "execution_count": 3,
   "metadata": {},
   "outputs": [],
   "source": [
    "zonas = ['norte','sul','leste','oeste']\n",
    "URL='https://imoveis.mercadolivre.com.br/casas/aluguel/sao-paulo/sao-paulo-zona-{}/{}'\n",
    "paginas=['', '_Desde_49', '_Desde_97', '_Desde_145', '_Desde_193', \n",
    "           '_Desde_241', '_Desde_289']\n"
   ]
  },
  {
   "cell_type": "code",
   "execution_count": 4,
   "metadata": {},
   "outputs": [],
   "source": [
    "# Functions\n",
    "def scrap(url):\n",
    "    c=requests.get(url).content\n",
    "    soup=BeautifulSoup(c)\n",
    "    aluguel_tags = soup.find_all('span', {'class':'price-tag-fraction'})\n",
    "    alugueis_lista = [p.text for p in aluguel_tags]\n",
    "    enderecos_tags = soup.find_all('span', {'class':'ui-search-item__group__element'})\n",
    "    enderecos_lista=[end.text for end in enderecos_tags]\n",
    "    enderecos_lista=enderecos_lista[1::2]\n",
    "    area_quartos_tags = soup.find_all('ul', {'class':'ui-search-card-attributes'})\n",
    "    area_quartos_lista=[aq.text for aq in area_quartos_tags]\n",
    "    df=convert_df(zona, area_quartos_lista, enderecos_lista, alugueis_lista)\n",
    "    return df\n",
    "\n",
    "def convert_df(zona, area_quartos_lista, enderecos_lista, alugueis_lista):\n",
    "    zonas_lista = [zona]*len(alugueis_lista)\n",
    "    data = {'zona': zonas_lista,\n",
    "            'area_quartos': area_quartos_lista,\n",
    "            'enderecos_lista':enderecos_lista,\n",
    "            'aluguel': alugueis_lista}\n",
    "    df = pd.DataFrame(data)\n",
    "    return df"
   ]
  },
  {
   "cell_type": "code",
   "execution_count": 6,
   "metadata": {},
   "outputs": [
    {
     "name": "stdout",
     "output_type": "stream",
     "text": [
      "https://imoveis.mercadolivre.com.br/aluguel/sao-paulo/sao-paulo-zona-norte/\n",
      "https://imoveis.mercadolivre.com.br/aluguel/sao-paulo/sao-paulo-zona-norte/_Desde_49\n",
      "https://imoveis.mercadolivre.com.br/aluguel/sao-paulo/sao-paulo-zona-norte/_Desde_97\n",
      "https://imoveis.mercadolivre.com.br/aluguel/sao-paulo/sao-paulo-zona-norte/_Desde_145\n",
      "https://imoveis.mercadolivre.com.br/aluguel/sao-paulo/sao-paulo-zona-norte/_Desde_193\n",
      "https://imoveis.mercadolivre.com.br/aluguel/sao-paulo/sao-paulo-zona-norte/_Desde_241\n",
      "https://imoveis.mercadolivre.com.br/aluguel/sao-paulo/sao-paulo-zona-norte/_Desde_289\n",
      "https://imoveis.mercadolivre.com.br/aluguel/sao-paulo/sao-paulo-zona-sul/\n",
      "https://imoveis.mercadolivre.com.br/aluguel/sao-paulo/sao-paulo-zona-sul/_Desde_49\n",
      "https://imoveis.mercadolivre.com.br/aluguel/sao-paulo/sao-paulo-zona-sul/_Desde_97\n",
      "https://imoveis.mercadolivre.com.br/aluguel/sao-paulo/sao-paulo-zona-sul/_Desde_145\n",
      "https://imoveis.mercadolivre.com.br/aluguel/sao-paulo/sao-paulo-zona-sul/_Desde_193\n",
      "https://imoveis.mercadolivre.com.br/aluguel/sao-paulo/sao-paulo-zona-sul/_Desde_241\n",
      "https://imoveis.mercadolivre.com.br/aluguel/sao-paulo/sao-paulo-zona-sul/_Desde_289\n",
      "https://imoveis.mercadolivre.com.br/aluguel/sao-paulo/sao-paulo-zona-leste/\n",
      "https://imoveis.mercadolivre.com.br/aluguel/sao-paulo/sao-paulo-zona-leste/_Desde_49\n",
      "https://imoveis.mercadolivre.com.br/aluguel/sao-paulo/sao-paulo-zona-leste/_Desde_97\n",
      "https://imoveis.mercadolivre.com.br/aluguel/sao-paulo/sao-paulo-zona-leste/_Desde_145\n",
      "https://imoveis.mercadolivre.com.br/aluguel/sao-paulo/sao-paulo-zona-leste/_Desde_193\n",
      "https://imoveis.mercadolivre.com.br/aluguel/sao-paulo/sao-paulo-zona-leste/_Desde_241\n",
      "https://imoveis.mercadolivre.com.br/aluguel/sao-paulo/sao-paulo-zona-leste/_Desde_289\n",
      "https://imoveis.mercadolivre.com.br/aluguel/sao-paulo/sao-paulo-zona-oeste/\n",
      "https://imoveis.mercadolivre.com.br/aluguel/sao-paulo/sao-paulo-zona-oeste/_Desde_49\n",
      "https://imoveis.mercadolivre.com.br/aluguel/sao-paulo/sao-paulo-zona-oeste/_Desde_97\n",
      "https://imoveis.mercadolivre.com.br/aluguel/sao-paulo/sao-paulo-zona-oeste/_Desde_145\n",
      "https://imoveis.mercadolivre.com.br/aluguel/sao-paulo/sao-paulo-zona-oeste/_Desde_193\n",
      "https://imoveis.mercadolivre.com.br/aluguel/sao-paulo/sao-paulo-zona-oeste/_Desde_241\n",
      "https://imoveis.mercadolivre.com.br/aluguel/sao-paulo/sao-paulo-zona-oeste/_Desde_289\n"
     ]
    }
   ],
   "source": [
    "lista_dfs = []\n",
    "for zona in zonas:\n",
    "    for pg in paginas:\n",
    "        url='https://imoveis.mercadolivre.com.br/aluguel/sao-paulo/sao-paulo-zona-{}/{}'.format(zona, pg)\n",
    "        print(url)\n",
    "        df=scrap(url)\n",
    "        lista_dfs.append(df)\n",
    "        sleep(1)"
   ]
  },
  {
   "cell_type": "code",
   "execution_count": 7,
   "metadata": {},
   "outputs": [
    {
     "data": {
      "text/html": [
       "<div>\n",
       "<style scoped>\n",
       "    .dataframe tbody tr th:only-of-type {\n",
       "        vertical-align: middle;\n",
       "    }\n",
       "\n",
       "    .dataframe tbody tr th {\n",
       "        vertical-align: top;\n",
       "    }\n",
       "\n",
       "    .dataframe thead th {\n",
       "        text-align: right;\n",
       "    }\n",
       "</style>\n",
       "<table border=\"1\" class=\"dataframe\">\n",
       "  <thead>\n",
       "    <tr style=\"text-align: right;\">\n",
       "      <th></th>\n",
       "      <th>zona</th>\n",
       "      <th>area_quartos</th>\n",
       "      <th>enderecos_lista</th>\n",
       "      <th>aluguel</th>\n",
       "    </tr>\n",
       "  </thead>\n",
       "  <tbody>\n",
       "    <tr>\n",
       "      <td>0</td>\n",
       "      <td>norte</td>\n",
       "      <td>18 m² construídos1 quarto</td>\n",
       "      <td>Rua Amaná, Vila Sabrina, São Paulo Zona Norte,...</td>\n",
       "      <td>770</td>\n",
       "    </tr>\n",
       "    <tr>\n",
       "      <td>1</td>\n",
       "      <td>norte</td>\n",
       "      <td>42 m² construídos1 quarto</td>\n",
       "      <td>Av Do Guacá, Lauzane Paulista, São Paulo Zona ...</td>\n",
       "      <td>1.600</td>\n",
       "    </tr>\n",
       "    <tr>\n",
       "      <td>2</td>\n",
       "      <td>norte</td>\n",
       "      <td>80 m² construídos2 quartos</td>\n",
       "      <td>Av Braz Leme, Santana, São Paulo Zona Norte, S...</td>\n",
       "      <td>2.000</td>\n",
       "    </tr>\n",
       "    <tr>\n",
       "      <td>3</td>\n",
       "      <td>norte</td>\n",
       "      <td>68 m² construídos3 quartos</td>\n",
       "      <td>Avenida José Maria Fernandes, Parque Novo Mund...</td>\n",
       "      <td>1.365</td>\n",
       "    </tr>\n",
       "    <tr>\n",
       "      <td>4</td>\n",
       "      <td>norte</td>\n",
       "      <td>28 m² construídos1 quarto</td>\n",
       "      <td>Rua Alberto Costa, Parque Mandaqui, São Paulo ...</td>\n",
       "      <td>770</td>\n",
       "    </tr>\n",
       "  </tbody>\n",
       "</table>\n",
       "</div>"
      ],
      "text/plain": [
       "    zona                area_quartos  \\\n",
       "0  norte   18 m² construídos1 quarto   \n",
       "1  norte   42 m² construídos1 quarto   \n",
       "2  norte  80 m² construídos2 quartos   \n",
       "3  norte  68 m² construídos3 quartos   \n",
       "4  norte   28 m² construídos1 quarto   \n",
       "\n",
       "                                     enderecos_lista aluguel  \n",
       "0  Rua Amaná, Vila Sabrina, São Paulo Zona Norte,...     770  \n",
       "1  Av Do Guacá, Lauzane Paulista, São Paulo Zona ...   1.600  \n",
       "2  Av Braz Leme, Santana, São Paulo Zona Norte, S...   2.000  \n",
       "3  Avenida José Maria Fernandes, Parque Novo Mund...   1.365  \n",
       "4  Rua Alberto Costa, Parque Mandaqui, São Paulo ...     770  "
      ]
     },
     "execution_count": 7,
     "metadata": {},
     "output_type": "execute_result"
    }
   ],
   "source": [
    "df=pd.concat(lista_dfs)\n",
    "df.head()"
   ]
  },
  {
   "cell_type": "code",
   "execution_count": 8,
   "metadata": {},
   "outputs": [],
   "source": [
    "df.to_csv('dados_aluguel_ml_sao_paulo.csv', index=False)"
   ]
  },
  {
   "cell_type": "code",
   "execution_count": 9,
   "metadata": {},
   "outputs": [],
   "source": [
    "# Funções\n",
    "def extrair_area(entrada):\n",
    "  \"\"\"Criar função que possua como entrada um texto e retorne a área contida no\n",
    "  mesmo. Retornar np.nan se for ausentes. Alguns exemplos:\n",
    "      >>> extrair_area('79 m² construídos1 quarto')\n",
    "      >>> 79\n",
    "      >>> extrair_area('280 m² construídos')\n",
    "      >>> 280\n",
    "      >>> extrair_area('2,600 m² construídos'\n",
    "      >>> 2600\n",
    "      >>> extrair_area('2 quartos')\n",
    "      >>> np.nan\n",
    "      \"\"\"\n",
    "  if ' m²' in entrada:\n",
    "    area = entrada.split(' m²')[0]\n",
    "    area = area.replace(',', '')\n",
    "  else:\n",
    "    area = np.nan\n",
    "  return area\n",
    "\n",
    "def extrair_quartos(entrada):\n",
    "  \"\"\"Criar função que possua como entrada um texto e retorne uma tupla com a \n",
    "  área e o quarto. Retornar np.nan se um dos dois for ausentes. Alguns exemplos:\n",
    "      >>> extrair_quarto('79 m² construídos1 quarto')\n",
    "      >>> 1\n",
    "      >>> extrair_quarto('280 m² construídos')\n",
    "      >>> np.nan\n",
    "      >>> extrair_quarto('2,600 m² construídos'\n",
    "      >>> np.nan\n",
    "      >>> extrair_quarto('2 quartos')\n",
    "      >>> 2\"\"\"\n",
    "  if 'quarto' in entrada:\n",
    "    n_quartos = re.findall('(\\d*) quarto', entrada)[0]\n",
    "  else:\n",
    "    n_quartos = np.nan\n",
    "  return n_quartos"
   ]
  },
  {
   "cell_type": "code",
   "execution_count": 10,
   "metadata": {},
   "outputs": [
    {
     "data": {
      "text/html": [
       "<div>\n",
       "<style scoped>\n",
       "    .dataframe tbody tr th:only-of-type {\n",
       "        vertical-align: middle;\n",
       "    }\n",
       "\n",
       "    .dataframe tbody tr th {\n",
       "        vertical-align: top;\n",
       "    }\n",
       "\n",
       "    .dataframe thead th {\n",
       "        text-align: right;\n",
       "    }\n",
       "</style>\n",
       "<table border=\"1\" class=\"dataframe\">\n",
       "  <thead>\n",
       "    <tr style=\"text-align: right;\">\n",
       "      <th></th>\n",
       "      <th>zona</th>\n",
       "      <th>enderecos_lista</th>\n",
       "      <th>aluguel</th>\n",
       "      <th>area</th>\n",
       "      <th>quartos</th>\n",
       "    </tr>\n",
       "  </thead>\n",
       "  <tbody>\n",
       "    <tr>\n",
       "      <td>0</td>\n",
       "      <td>norte</td>\n",
       "      <td>Rua Amaná, Vila Sabrina, São Paulo Zona Norte,...</td>\n",
       "      <td>770</td>\n",
       "      <td>18.0</td>\n",
       "      <td>1.0</td>\n",
       "    </tr>\n",
       "    <tr>\n",
       "      <td>1</td>\n",
       "      <td>norte</td>\n",
       "      <td>Av Do Guacá, Lauzane Paulista, São Paulo Zona ...</td>\n",
       "      <td>1.600</td>\n",
       "      <td>42.0</td>\n",
       "      <td>1.0</td>\n",
       "    </tr>\n",
       "    <tr>\n",
       "      <td>2</td>\n",
       "      <td>norte</td>\n",
       "      <td>Av Braz Leme, Santana, São Paulo Zona Norte, S...</td>\n",
       "      <td>2.000</td>\n",
       "      <td>80.0</td>\n",
       "      <td>2.0</td>\n",
       "    </tr>\n",
       "    <tr>\n",
       "      <td>3</td>\n",
       "      <td>norte</td>\n",
       "      <td>Avenida José Maria Fernandes, Parque Novo Mund...</td>\n",
       "      <td>1.365</td>\n",
       "      <td>68.0</td>\n",
       "      <td>3.0</td>\n",
       "    </tr>\n",
       "    <tr>\n",
       "      <td>4</td>\n",
       "      <td>norte</td>\n",
       "      <td>Rua Alberto Costa, Parque Mandaqui, São Paulo ...</td>\n",
       "      <td>770</td>\n",
       "      <td>28.0</td>\n",
       "      <td>1.0</td>\n",
       "    </tr>\n",
       "  </tbody>\n",
       "</table>\n",
       "</div>"
      ],
      "text/plain": [
       "    zona                                    enderecos_lista aluguel  area  \\\n",
       "0  norte  Rua Amaná, Vila Sabrina, São Paulo Zona Norte,...     770  18.0   \n",
       "1  norte  Av Do Guacá, Lauzane Paulista, São Paulo Zona ...   1.600  42.0   \n",
       "2  norte  Av Braz Leme, Santana, São Paulo Zona Norte, S...   2.000  80.0   \n",
       "3  norte  Avenida José Maria Fernandes, Parque Novo Mund...   1.365  68.0   \n",
       "4  norte  Rua Alberto Costa, Parque Mandaqui, São Paulo ...     770  28.0   \n",
       "\n",
       "   quartos  \n",
       "0      1.0  \n",
       "1      1.0  \n",
       "2      2.0  \n",
       "3      3.0  \n",
       "4      1.0  "
      ]
     },
     "execution_count": 10,
     "metadata": {},
     "output_type": "execute_result"
    }
   ],
   "source": [
    "df['area']=df['area_quartos'].apply(extrair_area).astype(float)\n",
    "df['quartos'] = df['area_quartos'].apply(extrair_quartos).astype(float)\n",
    "\n",
    "df = df.drop('area_quartos', axis=1)\n",
    "df.head()"
   ]
  },
  {
   "cell_type": "code",
   "execution_count": 11,
   "metadata": {},
   "outputs": [],
   "source": [
    "df.to_csv('dados_aluguel_ml_sao_paulo_preprocessado.csv', index=False)"
   ]
  },
  {
   "cell_type": "code",
   "execution_count": 12,
   "metadata": {},
   "outputs": [
    {
     "name": "stdout",
     "output_type": "stream",
     "text": [
      "Rua Amaná, Vila Sabrina, São Paulo Zona Norte, São Paulo\n",
      "Av Do Guacá, Lauzane Paulista, São Paulo Zona Norte, São Paulo\n",
      "Av Braz Leme, Santana, São Paulo Zona Norte, São Paulo\n",
      "Avenida José Maria Fernandes, Parque Novo Mundo, São Paulo Zona Norte, São Paulo\n",
      "Rua Alberto Costa, Parque Mandaqui, São Paulo Zona Norte, São Paulo\n",
      "Rua Cabo José Da Silva, Parque Novo Mundo, São Paulo Zona Norte, São Paulo\n",
      "Rua Aída Gomes Tolêdo, Imirim, São Paulo Zona Norte, São Paulo\n",
      "Rua Doutor Heitor Nascimento, Nossa Senhora Do Ó, São Paulo Zona Norte, São Paulo\n",
      "Rua Dona Estela Borges Morato, Vila Siqueira (zona Norte), São Paulo Zona Norte, São Paulo\n",
      "Rua Pedro Cacunda, Jardim São Paulo, São Paulo Zona Norte, São Paulo\n",
      "Rua José Debieux, Santana, São Paulo Zona Norte, São Paulo\n",
      "Rua Ciridião Durval, Vila Paulista, São Paulo Zona Norte, São Paulo\n",
      "Avenida João Pessoa, Lauzane Paulista, São Paulo Zona Norte, São Paulo\n",
      "Rua Iwajiro Takahashi, Vila Mazzei, São Paulo Zona Norte, São Paulo\n",
      "Rua Relíquia, Jardim Das Laranjeiras, São Paulo Zona Norte, São Paulo\n",
      "Rua Eulália Bastos, Tucuruvi, São Paulo Zona Norte, São Paulo\n",
      "Rua Doutor Heitor Nascimento, Nossa Senhora Do Ó, São Paulo Zona Norte, São Paulo\n",
      "Avenida Braz Leme, Santana, São Paulo Zona Norte, São Paulo\n",
      "Rua Voluntários Da Pátria, Santana, São Paulo Zona Norte, São Paulo\n",
      "Rua Jornalista Octávio Ribeiro - Pena Branca, Vila Bela Vista (capital Zona Norte), São Paulo Zona Norte, São Paulo\n"
     ]
    }
   ],
   "source": [
    "for i in range(0,20):\n",
    "    print(df.iloc[i]['enderecos_lista'])"
   ]
  },
  {
   "cell_type": "code",
   "execution_count": null,
   "metadata": {},
   "outputs": [],
   "source": []
  },
  {
   "cell_type": "code",
   "execution_count": null,
   "metadata": {},
   "outputs": [],
   "source": []
  }
 ],
 "metadata": {
  "kernelspec": {
   "display_name": "Python 3",
   "language": "python",
   "name": "python3"
  },
  "language_info": {
   "codemirror_mode": {
    "name": "ipython",
    "version": 3
   },
   "file_extension": ".py",
   "mimetype": "text/x-python",
   "name": "python",
   "nbconvert_exporter": "python",
   "pygments_lexer": "ipython3",
   "version": "3.7.4"
  }
 },
 "nbformat": 4,
 "nbformat_minor": 2
}
